{
 "cells": [
  {
   "cell_type": "code",
   "execution_count": 3,
   "id": "53254933-32b4-48d6-8220-a2081478ca60",
   "metadata": {},
   "outputs": [],
   "source": [
    "import random"
   ]
  },
  {
   "cell_type": "code",
   "execution_count": 6,
   "id": "df62fafc-bf0b-47bf-b042-074781fa027c",
   "metadata": {},
   "outputs": [],
   "source": [
    "hello = [\"heads\",\"tails\"]"
   ]
  },
  {
   "cell_type": "code",
   "execution_count": 15,
   "id": "179d152d-8858-4060-99fa-3a8b7d07e986",
   "metadata": {},
   "outputs": [],
   "source": [
    "random.shuffle(hello)"
   ]
  },
  {
   "cell_type": "code",
   "execution_count": 16,
   "id": "3c031453-e01a-4453-864a-9ecbf10c69a1",
   "metadata": {},
   "outputs": [
    {
     "name": "stdout",
     "output_type": "stream",
     "text": [
      "['tails', 'heads']\n"
     ]
    }
   ],
   "source": [
    "print(hello)"
   ]
  },
  {
   "cell_type": "code",
   "execution_count": 55,
   "id": "0e50f5ab-aba3-4c15-9635-286790daa8cd",
   "metadata": {},
   "outputs": [
    {
     "name": "stdin",
     "output_type": "stream",
     "text": [
      "heads or tails? tails\n"
     ]
    },
    {
     "name": "stdout",
     "output_type": "stream",
     "text": [
      "You win\n"
     ]
    }
   ],
   "source": [
    "import random\n",
    "hello = [\"heads\",\"tails\"]\n",
    "random.shuffle(hello)\n",
    "res = hello[0]\n",
    "if input(\"heads or tails?\") == res:\n",
    "    print(\"You win\")\n",
    "else:\n",
    "    print(\"You lose\")\n",
    "    \n",
    "    \n",
    "\n",
    "\n",
    "\n",
    "\n",
    "\n"
   ]
  },
  {
   "cell_type": "code",
   "execution_count": null,
   "id": "7690904d-b645-4819-9bdc-e124398aa03c",
   "metadata": {},
   "outputs": [],
   "source": []
  }
 ],
 "metadata": {
  "kernelspec": {
   "display_name": "Python 3 (ipykernel)",
   "language": "python",
   "name": "python3"
  },
  "language_info": {
   "codemirror_mode": {
    "name": "ipython",
    "version": 3
   },
   "file_extension": ".py",
   "mimetype": "text/x-python",
   "name": "python",
   "nbconvert_exporter": "python",
   "pygments_lexer": "ipython3",
   "version": "3.11.7"
  }
 },
 "nbformat": 4,
 "nbformat_minor": 5
}
